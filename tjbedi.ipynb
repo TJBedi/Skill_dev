{
  "nbformat": 4,
  "nbformat_minor": 0,
  "metadata": {
    "colab": {
      "provenance": []
    },
    "kernelspec": {
      "name": "python3",
      "display_name": "Python 3"
    },
    "language_info": {
      "name": "python"
    }
  },
  "cells": [
    {
      "cell_type": "code",
      "execution_count": 24,
      "metadata": {
        "id": "nX3J9ygDJycZ"
      },
      "outputs": [],
      "source": [
        "import numpy as np\n",
        "import pandas as pd\n",
        "import matplotlib.pyplot as plt"
      ]
    },
    {
      "cell_type": "code",
      "source": [
        "#importing the dataset\n",
        "data=pd.read_csv('https://raw.githubusercontent.com/tkseneee/Dataset/dd7313e0c6487acd9ed7cd32b786782c7a1d3885/HR_data.csv')\n",
        "cat_data=data.select_dtypes(exclude=np.number)\n",
        "num_data=data.select_dtypes(include=np.number)\n",
        "print(cat_data)\n",
        "print(num_data)"
      ],
      "metadata": {
        "id": "bg9rGnbMJ7nY",
        "outputId": "1e7a1842-b443-4f47-9378-71bae5327f05",
        "colab": {
          "base_uri": "https://localhost:8080/"
        }
      },
      "execution_count": 25,
      "outputs": [
        {
          "output_type": "stream",
          "name": "stdout",
          "text": [
            "               Workclass   Education       Martial_Status          Occupation  \\\n",
            "0              State-gov   Bachelors        Never-married        Adm-clerical   \n",
            "1       Self-emp-not-inc   Bachelors   Married-civ-spouse     Exec-managerial   \n",
            "2                Private     HS-grad             Divorced   Handlers-cleaners   \n",
            "3                Private        11th   Married-civ-spouse   Handlers-cleaners   \n",
            "4                Private   Bachelors   Married-civ-spouse      Prof-specialty   \n",
            "...                  ...         ...                  ...                 ...   \n",
            "36522            Private   Bachelors             Divorced      Prof-specialty   \n",
            "36523                NaN     HS-grad              Widowed                 NaN   \n",
            "36524            Private   Bachelors   Married-civ-spouse      Prof-specialty   \n",
            "36525            Private   Bachelors             Divorced        Adm-clerical   \n",
            "36526       Self-emp-inc   Bachelors   Married-civ-spouse     Exec-managerial   \n",
            "\n",
            "          Relationship                 Race   Gender         Country   Target  \n",
            "0        Not-in-family                White     Male   United-States    <=50K  \n",
            "1              Husband                White     Male   United-States    <=50K  \n",
            "2        Not-in-family                White     Male   United-States    <=50K  \n",
            "3              Husband                Black     Male   United-States    <=50K  \n",
            "4                 Wife                Black   Female            Cuba    <=50K  \n",
            "...                ...                  ...      ...             ...      ...  \n",
            "36522    Not-in-family                White   Female   United-States   <=50K.  \n",
            "36523   Other-relative                Black     Male   United-States   <=50K.  \n",
            "36524          Husband                White     Male   United-States   <=50K.  \n",
            "36525        Own-child   Asian-Pac-Islander     Male   United-States   <=50K.  \n",
            "36526          Husband                White     Male   United-States    >50K.  \n",
            "\n",
            "[36527 rows x 9 columns]\n",
            "       Age  fnlwgt  Education_Num  Capital_Gain  Capital_Loss  Hours_per_week\n",
            "0       39   77516             13          2174             0              40\n",
            "1       50   83311             13             0             0              13\n",
            "2       38  215646              9             0             0              40\n",
            "3       53  234721              7             0             0              40\n",
            "4       28  338409             13             0             0              40\n",
            "...    ...     ...            ...           ...           ...             ...\n",
            "36522   39  215419             13             0             0              36\n",
            "36523   64  321403              9             0             0              40\n",
            "36524   38  374983             13             0             0              50\n",
            "36525   44   83891             13          5455             0              40\n",
            "36526   35  182148             13             0             0              60\n",
            "\n",
            "[36527 rows x 6 columns]\n"
          ]
        }
      ]
    },
    {
      "cell_type": "code",
      "source": [
        "from sklearn.preprocessing import LabelEncoder\n",
        "laenc=LabelEncoder()"
      ],
      "metadata": {
        "id": "D3y1mLhgKTge"
      },
      "execution_count": 26,
      "outputs": []
    },
    {
      "cell_type": "code",
      "source": [
        "#changing Gender values\n",
        "data['Gender']=laenc.fit_transform(data['Gender'])\n",
        "print(data['Gender'])"
      ],
      "metadata": {
        "id": "X5NfyJsyL2a1",
        "outputId": "1c8dd6fa-c41e-4338-cb6f-4d387131d079",
        "colab": {
          "base_uri": "https://localhost:8080/"
        }
      },
      "execution_count": 27,
      "outputs": [
        {
          "output_type": "stream",
          "name": "stdout",
          "text": [
            "0        1\n",
            "1        1\n",
            "2        1\n",
            "3        1\n",
            "4        0\n",
            "        ..\n",
            "36522    0\n",
            "36523    1\n",
            "36524    1\n",
            "36525    1\n",
            "36526    1\n",
            "Name: Gender, Length: 36527, dtype: int64\n"
          ]
        }
      ]
    },
    {
      "cell_type": "code",
      "source": [
        "#changing Target values\n",
        "data['Target']=laenc.fit_transform(data['Target'])\n",
        "print(data['Target'])"
      ],
      "metadata": {
        "id": "NYeFFjYqKGy5",
        "outputId": "e95d097b-9abb-4191-9603-12aa9230f5e2",
        "colab": {
          "base_uri": "https://localhost:8080/"
        }
      },
      "execution_count": 28,
      "outputs": [
        {
          "output_type": "stream",
          "name": "stdout",
          "text": [
            "0        0\n",
            "1        0\n",
            "2        0\n",
            "3        0\n",
            "4        0\n",
            "        ..\n",
            "36522    1\n",
            "36523    1\n",
            "36524    1\n",
            "36525    1\n",
            "36526    3\n",
            "Name: Target, Length: 36527, dtype: int64\n"
          ]
        }
      ]
    },
    {
      "cell_type": "code",
      "source": [
        "#changing race values\n",
        "data['Race']=laenc.fit_transform(data['Race'])\n",
        "print(data['Race'])"
      ],
      "metadata": {
        "id": "Clg_8SovL_bb",
        "outputId": "9f2ab859-ff17-4fb8-9459-f62387336408",
        "colab": {
          "base_uri": "https://localhost:8080/"
        }
      },
      "execution_count": 29,
      "outputs": [
        {
          "output_type": "stream",
          "name": "stdout",
          "text": [
            "0        4\n",
            "1        4\n",
            "2        4\n",
            "3        2\n",
            "4        2\n",
            "        ..\n",
            "36522    4\n",
            "36523    2\n",
            "36524    4\n",
            "36525    1\n",
            "36526    4\n",
            "Name: Race, Length: 36527, dtype: int64\n"
          ]
        }
      ]
    },
    {
      "cell_type": "code",
      "source": [
        "#performing standardiztion\n",
        "data_sc=data\n",
        "data_sc['fnlwgt']=(data['fnlwgt']-data['fnlwgt'].mean())/data['fnlwgt'].std()\n",
        "print(data_sc['fnlwgt'])"
      ],
      "metadata": {
        "colab": {
          "base_uri": "https://localhost:8080/"
        },
        "id": "cG8H-eKMN1D7",
        "outputId": "ae2c6b4a-9982-416b-ed42-f3ac0394f5cb"
      },
      "execution_count": 30,
      "outputs": [
        {
          "output_type": "stream",
          "name": "stdout",
          "text": [
            "0       -1.062138\n",
            "1       -1.007363\n",
            "2        0.243480\n",
            "3        0.423778\n",
            "4        1.403847\n",
            "           ...   \n",
            "36522    0.241334\n",
            "36523    1.243104\n",
            "36524    1.749548\n",
            "36525   -1.001881\n",
            "36526   -0.073147\n",
            "Name: fnlwgt, Length: 36527, dtype: float64\n"
          ]
        }
      ]
    },
    {
      "cell_type": "code",
      "source": [
        "#performing the logistic regression\n",
        "from sklearn.model_selection import train_test_split\n",
        "from sklearn.preprocessing import StandardScaler\n",
        "from sklearn.linear_model import LogisticRegression\n",
        "from sklearn.metrics import classification_report, accuracy_score\n",
        "target = data['Age']\n",
        "scaler = StandardScaler()\n",
        "standardized_features = scaler.fit_transform(features)\n",
        "X_train, X_test, y_train, y_test = train_test_split(standardized_features, target, test_size=0.2, random_state=42)\n",
        "model = LogisticRegression()\n",
        "model.fit(X_train, y_train)\n",
        "y_pred = model.predict(X_test)\n",
        "accuracy = accuracy_score(y_test, y_pred)\n",
        "report = classification_report(y_test, y_pred)\n",
        "print(f'Accuracy: {accuracy}')\n",
        "print('Classification Report:')\n",
        "print(report)"
      ],
      "metadata": {
        "id": "RjH_WL_UiLDw",
        "outputId": "8d3b812c-e443-4eb5-b405-5e9853ecfd8e",
        "colab": {
          "base_uri": "https://localhost:8080/"
        }
      },
      "execution_count": 23,
      "outputs": [
        {
          "output_type": "stream",
          "name": "stdout",
          "text": [
            "Accuracy: 0.035313441007391186\n",
            "Classification Report:\n",
            "              precision    recall  f1-score   support\n",
            "\n",
            "          17       0.06      0.27      0.10        70\n",
            "          18       0.09      0.24      0.13       121\n",
            "          19       0.10      0.14      0.11       167\n",
            "          20       0.10      0.03      0.04       153\n",
            "          21       0.00      0.00      0.00       157\n",
            "          22       0.00      0.00      0.00       173\n",
            "          23       0.03      0.13      0.05       178\n",
            "          24       0.00      0.00      0.00       177\n",
            "          25       0.00      0.00      0.00       185\n",
            "          26       0.00      0.00      0.00       192\n",
            "          27       0.00      0.00      0.00       184\n",
            "          28       0.00      0.00      0.00       195\n",
            "          29       0.00      0.00      0.00       193\n",
            "          30       0.00      0.00      0.00       189\n",
            "          31       0.03      0.52      0.06       191\n",
            "          32       0.00      0.00      0.00       195\n",
            "          33       0.00      0.00      0.00       206\n",
            "          34       0.00      0.00      0.00       199\n",
            "          35       0.03      0.32      0.05       179\n",
            "          36       0.00      0.00      0.00       217\n",
            "          37       0.00      0.00      0.00       187\n",
            "          38       0.01      0.01      0.01       187\n",
            "          39       0.00      0.00      0.00       192\n",
            "          40       0.00      0.00      0.00       180\n",
            "          41       0.00      0.00      0.00       194\n",
            "          42       0.00      0.00      0.00       164\n",
            "          43       0.00      0.00      0.00       164\n",
            "          44       0.00      0.00      0.00       160\n",
            "          45       0.00      0.00      0.00       156\n",
            "          46       0.00      0.00      0.00       169\n",
            "          47       0.00      0.00      0.00       179\n",
            "          48       0.00      0.00      0.00       120\n",
            "          49       0.00      0.00      0.00       139\n",
            "          50       0.00      0.00      0.00       138\n",
            "          51       0.00      0.00      0.00       142\n",
            "          52       0.00      0.00      0.00       121\n",
            "          53       0.00      0.00      0.00       110\n",
            "          54       0.00      0.00      0.00       107\n",
            "          55       0.00      0.00      0.00        88\n",
            "          56       0.00      0.00      0.00        72\n",
            "          57       0.00      0.00      0.00        92\n",
            "          58       0.00      0.00      0.00        72\n",
            "          59       0.00      0.00      0.00        83\n",
            "          60       0.00      0.00      0.00        54\n",
            "          61       0.00      0.00      0.00        70\n",
            "          62       0.00      0.00      0.00        51\n",
            "          63       0.00      0.00      0.00        53\n",
            "          64       0.00      0.00      0.00        42\n",
            "          65       0.00      0.00      0.00        53\n",
            "          66       0.00      0.00      0.00        40\n",
            "          67       0.00      0.00      0.00        29\n",
            "          68       0.00      0.00      0.00        22\n",
            "          69       0.00      0.00      0.00        29\n",
            "          70       0.00      0.00      0.00        15\n",
            "          71       0.00      0.00      0.00        14\n",
            "          72       0.00      0.00      0.00         8\n",
            "          73       0.00      0.00      0.00        13\n",
            "          74       0.00      0.00      0.00        11\n",
            "          75       0.00      0.00      0.00         9\n",
            "          76       0.00      0.00      0.00        15\n",
            "          77       0.00      0.00      0.00         4\n",
            "          78       0.00      0.00      0.00         2\n",
            "          79       0.00      0.00      0.00         3\n",
            "          80       0.00      0.00      0.00         7\n",
            "          81       0.00      0.00      0.00         6\n",
            "          82       0.00      0.00      0.00         3\n",
            "          83       0.00      0.00      0.00         1\n",
            "          84       0.00      0.00      0.00         3\n",
            "          87       0.00      0.00      0.00         1\n",
            "          88       0.00      0.00      0.00         2\n",
            "          90       0.00      0.00      0.00         9\n",
            "\n",
            "    accuracy                           0.04      7306\n",
            "   macro avg       0.01      0.02      0.01      7306\n",
            "weighted avg       0.01      0.04      0.01      7306\n",
            "\n"
          ]
        },
        {
          "output_type": "stream",
          "name": "stderr",
          "text": [
            "/usr/local/lib/python3.10/dist-packages/sklearn/linear_model/_logistic.py:458: ConvergenceWarning: lbfgs failed to converge (status=1):\n",
            "STOP: TOTAL NO. of ITERATIONS REACHED LIMIT.\n",
            "\n",
            "Increase the number of iterations (max_iter) or scale the data as shown in:\n",
            "    https://scikit-learn.org/stable/modules/preprocessing.html\n",
            "Please also refer to the documentation for alternative solver options:\n",
            "    https://scikit-learn.org/stable/modules/linear_model.html#logistic-regression\n",
            "  n_iter_i = _check_optimize_result(\n",
            "/usr/local/lib/python3.10/dist-packages/sklearn/metrics/_classification.py:1344: UndefinedMetricWarning: Precision and F-score are ill-defined and being set to 0.0 in labels with no predicted samples. Use `zero_division` parameter to control this behavior.\n",
            "  _warn_prf(average, modifier, msg_start, len(result))\n",
            "/usr/local/lib/python3.10/dist-packages/sklearn/metrics/_classification.py:1344: UndefinedMetricWarning: Precision and F-score are ill-defined and being set to 0.0 in labels with no predicted samples. Use `zero_division` parameter to control this behavior.\n",
            "  _warn_prf(average, modifier, msg_start, len(result))\n",
            "/usr/local/lib/python3.10/dist-packages/sklearn/metrics/_classification.py:1344: UndefinedMetricWarning: Precision and F-score are ill-defined and being set to 0.0 in labels with no predicted samples. Use `zero_division` parameter to control this behavior.\n",
            "  _warn_prf(average, modifier, msg_start, len(result))\n"
          ]
        }
      ]
    }
  ]
}